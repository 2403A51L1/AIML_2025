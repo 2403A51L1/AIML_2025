{
  "nbformat": 4,
  "nbformat_minor": 0,
  "metadata": {
    "colab": {
      "provenance": [],
      "toc_visible": true,
      "include_colab_link": true
    },
    "kernelspec": {
      "name": "python3",
      "display_name": "Python 3"
    },
    "language_info": {
      "name": "python"
    }
  },
  "cells": [
    {
      "cell_type": "markdown",
      "metadata": {
        "id": "view-in-github",
        "colab_type": "text"
      },
      "source": [
        "<a href=\"https://colab.research.google.com/github/2403A51L1/AIML_2025/blob/main/LA4_HousePrice.ipynb\" target=\"_parent\"><img src=\"https://colab.research.google.com/assets/colab-badge.svg\" alt=\"Open In Colab\"/></a>"
      ]
    },
    {
      "cell_type": "code",
      "execution_count": 1,
      "metadata": {
        "id": "g9NFM9cagLhr"
      },
      "outputs": [],
      "source": [
        "import numpy as np            # Importing the NumPy library for numerical operations\n",
        "import pandas as pd           # Importing the pandas library for data manipulation and analysis\n",
        "import matplotlib.pyplot as plt  # Importing matplotlib's pyplot for data visualization\n",
        "import seaborn as sns         # Importing seaborn for statistical data visualization\n"
      ]
    },
    {
      "cell_type": "code",
      "source": [
        "from google.colab import drive       # Importing the drive module from Google Colab to interact with Google Drive\n",
        "drive.mount('/content/drive')        # Mounting Google Drive to the '/content/drive' path to access its files\n"
      ],
      "metadata": {
        "colab": {
          "base_uri": "https://localhost:8080/"
        },
        "id": "Bsytk0rwgbRo",
        "outputId": "51866b94-0644-4316-8e84-87cc90fddddc"
      },
      "execution_count": 2,
      "outputs": [
        {
          "output_type": "stream",
          "name": "stdout",
          "text": [
            "Mounted at /content/drive\n"
          ]
        }
      ]
    },
    {
      "cell_type": "code",
      "source": [
        "file_path = '/content/drive/MyDrive/USA_Housing.csv'"
      ],
      "metadata": {
        "id": "7zQjoa8Sg0iH"
      },
      "execution_count": 3,
      "outputs": []
    },
    {
      "cell_type": "code",
      "source": [
        "df = pd.read_csv(file_path)    # Reading a CSV file from the specified 'file_path' into a pandas DataFrame\n",
        "df.head()                      # Displaying the first 5 rows of the DataFrame to get a quick overview of the data\n"
      ],
      "metadata": {
        "colab": {
          "base_uri": "https://localhost:8080/",
          "height": 275
        },
        "id": "xO3gcptYhHee",
        "outputId": "e23a2048-4e7a-4826-dd8d-396b80552367"
      },
      "execution_count": 4,
      "outputs": [
        {
          "output_type": "execute_result",
          "data": {
            "text/plain": [
              "   Avg. Area Income  Avg. Area House Age  Avg. Area Number of Rooms  \\\n",
              "0      79545.458574             5.682861                   7.009188   \n",
              "1      79248.642455             6.002900                   6.730821   \n",
              "2      61287.067179             5.865890                   8.512727   \n",
              "3      63345.240046             7.188236                   5.586729   \n",
              "4      59982.197226             5.040555                   7.839388   \n",
              "\n",
              "   Avg. Area Number of Bedrooms  Area Population         Price  \\\n",
              "0                          4.09     23086.800503  1.059034e+06   \n",
              "1                          3.09     40173.072174  1.505891e+06   \n",
              "2                          5.13     36882.159400  1.058988e+06   \n",
              "3                          3.26     34310.242831  1.260617e+06   \n",
              "4                          4.23     26354.109472  6.309435e+05   \n",
              "\n",
              "                                             Address  \n",
              "0  208 Michael Ferry Apt. 674\\nLaurabury, NE 3701...  \n",
              "1  188 Johnson Views Suite 079\\nLake Kathleen, CA...  \n",
              "2  9127 Elizabeth Stravenue\\nDanieltown, WI 06482...  \n",
              "3                          USS Barnett\\nFPO AP 44820  \n",
              "4                         USNS Raymond\\nFPO AE 09386  "
            ],
            "text/html": [
              "\n",
              "  <div id=\"df-d182c1a5-8a46-42a4-b1db-5623687c29e0\" class=\"colab-df-container\">\n",
              "    <div>\n",
              "<style scoped>\n",
              "    .dataframe tbody tr th:only-of-type {\n",
              "        vertical-align: middle;\n",
              "    }\n",
              "\n",
              "    .dataframe tbody tr th {\n",
              "        vertical-align: top;\n",
              "    }\n",
              "\n",
              "    .dataframe thead th {\n",
              "        text-align: right;\n",
              "    }\n",
              "</style>\n",
              "<table border=\"1\" class=\"dataframe\">\n",
              "  <thead>\n",
              "    <tr style=\"text-align: right;\">\n",
              "      <th></th>\n",
              "      <th>Avg. Area Income</th>\n",
              "      <th>Avg. Area House Age</th>\n",
              "      <th>Avg. Area Number of Rooms</th>\n",
              "      <th>Avg. Area Number of Bedrooms</th>\n",
              "      <th>Area Population</th>\n",
              "      <th>Price</th>\n",
              "      <th>Address</th>\n",
              "    </tr>\n",
              "  </thead>\n",
              "  <tbody>\n",
              "    <tr>\n",
              "      <th>0</th>\n",
              "      <td>79545.458574</td>\n",
              "      <td>5.682861</td>\n",
              "      <td>7.009188</td>\n",
              "      <td>4.09</td>\n",
              "      <td>23086.800503</td>\n",
              "      <td>1.059034e+06</td>\n",
              "      <td>208 Michael Ferry Apt. 674\\nLaurabury, NE 3701...</td>\n",
              "    </tr>\n",
              "    <tr>\n",
              "      <th>1</th>\n",
              "      <td>79248.642455</td>\n",
              "      <td>6.002900</td>\n",
              "      <td>6.730821</td>\n",
              "      <td>3.09</td>\n",
              "      <td>40173.072174</td>\n",
              "      <td>1.505891e+06</td>\n",
              "      <td>188 Johnson Views Suite 079\\nLake Kathleen, CA...</td>\n",
              "    </tr>\n",
              "    <tr>\n",
              "      <th>2</th>\n",
              "      <td>61287.067179</td>\n",
              "      <td>5.865890</td>\n",
              "      <td>8.512727</td>\n",
              "      <td>5.13</td>\n",
              "      <td>36882.159400</td>\n",
              "      <td>1.058988e+06</td>\n",
              "      <td>9127 Elizabeth Stravenue\\nDanieltown, WI 06482...</td>\n",
              "    </tr>\n",
              "    <tr>\n",
              "      <th>3</th>\n",
              "      <td>63345.240046</td>\n",
              "      <td>7.188236</td>\n",
              "      <td>5.586729</td>\n",
              "      <td>3.26</td>\n",
              "      <td>34310.242831</td>\n",
              "      <td>1.260617e+06</td>\n",
              "      <td>USS Barnett\\nFPO AP 44820</td>\n",
              "    </tr>\n",
              "    <tr>\n",
              "      <th>4</th>\n",
              "      <td>59982.197226</td>\n",
              "      <td>5.040555</td>\n",
              "      <td>7.839388</td>\n",
              "      <td>4.23</td>\n",
              "      <td>26354.109472</td>\n",
              "      <td>6.309435e+05</td>\n",
              "      <td>USNS Raymond\\nFPO AE 09386</td>\n",
              "    </tr>\n",
              "  </tbody>\n",
              "</table>\n",
              "</div>\n",
              "    <div class=\"colab-df-buttons\">\n",
              "\n",
              "  <div class=\"colab-df-container\">\n",
              "    <button class=\"colab-df-convert\" onclick=\"convertToInteractive('df-d182c1a5-8a46-42a4-b1db-5623687c29e0')\"\n",
              "            title=\"Convert this dataframe to an interactive table.\"\n",
              "            style=\"display:none;\">\n",
              "\n",
              "  <svg xmlns=\"http://www.w3.org/2000/svg\" height=\"24px\" viewBox=\"0 -960 960 960\">\n",
              "    <path d=\"M120-120v-720h720v720H120Zm60-500h600v-160H180v160Zm220 220h160v-160H400v160Zm0 220h160v-160H400v160ZM180-400h160v-160H180v160Zm440 0h160v-160H620v160ZM180-180h160v-160H180v160Zm440 0h160v-160H620v160Z\"/>\n",
              "  </svg>\n",
              "    </button>\n",
              "\n",
              "  <style>\n",
              "    .colab-df-container {\n",
              "      display:flex;\n",
              "      gap: 12px;\n",
              "    }\n",
              "\n",
              "    .colab-df-convert {\n",
              "      background-color: #E8F0FE;\n",
              "      border: none;\n",
              "      border-radius: 50%;\n",
              "      cursor: pointer;\n",
              "      display: none;\n",
              "      fill: #1967D2;\n",
              "      height: 32px;\n",
              "      padding: 0 0 0 0;\n",
              "      width: 32px;\n",
              "    }\n",
              "\n",
              "    .colab-df-convert:hover {\n",
              "      background-color: #E2EBFA;\n",
              "      box-shadow: 0px 1px 2px rgba(60, 64, 67, 0.3), 0px 1px 3px 1px rgba(60, 64, 67, 0.15);\n",
              "      fill: #174EA6;\n",
              "    }\n",
              "\n",
              "    .colab-df-buttons div {\n",
              "      margin-bottom: 4px;\n",
              "    }\n",
              "\n",
              "    [theme=dark] .colab-df-convert {\n",
              "      background-color: #3B4455;\n",
              "      fill: #D2E3FC;\n",
              "    }\n",
              "\n",
              "    [theme=dark] .colab-df-convert:hover {\n",
              "      background-color: #434B5C;\n",
              "      box-shadow: 0px 1px 3px 1px rgba(0, 0, 0, 0.15);\n",
              "      filter: drop-shadow(0px 1px 2px rgba(0, 0, 0, 0.3));\n",
              "      fill: #FFFFFF;\n",
              "    }\n",
              "  </style>\n",
              "\n",
              "    <script>\n",
              "      const buttonEl =\n",
              "        document.querySelector('#df-d182c1a5-8a46-42a4-b1db-5623687c29e0 button.colab-df-convert');\n",
              "      buttonEl.style.display =\n",
              "        google.colab.kernel.accessAllowed ? 'block' : 'none';\n",
              "\n",
              "      async function convertToInteractive(key) {\n",
              "        const element = document.querySelector('#df-d182c1a5-8a46-42a4-b1db-5623687c29e0');\n",
              "        const dataTable =\n",
              "          await google.colab.kernel.invokeFunction('convertToInteractive',\n",
              "                                                    [key], {});\n",
              "        if (!dataTable) return;\n",
              "\n",
              "        const docLinkHtml = 'Like what you see? Visit the ' +\n",
              "          '<a target=\"_blank\" href=https://colab.research.google.com/notebooks/data_table.ipynb>data table notebook</a>'\n",
              "          + ' to learn more about interactive tables.';\n",
              "        element.innerHTML = '';\n",
              "        dataTable['output_type'] = 'display_data';\n",
              "        await google.colab.output.renderOutput(dataTable, element);\n",
              "        const docLink = document.createElement('div');\n",
              "        docLink.innerHTML = docLinkHtml;\n",
              "        element.appendChild(docLink);\n",
              "      }\n",
              "    </script>\n",
              "  </div>\n",
              "\n",
              "\n",
              "<div id=\"df-5af729d1-7c64-4cad-a69a-a73531fbcf06\">\n",
              "  <button class=\"colab-df-quickchart\" onclick=\"quickchart('df-5af729d1-7c64-4cad-a69a-a73531fbcf06')\"\n",
              "            title=\"Suggest charts\"\n",
              "            style=\"display:none;\">\n",
              "\n",
              "<svg xmlns=\"http://www.w3.org/2000/svg\" height=\"24px\"viewBox=\"0 0 24 24\"\n",
              "     width=\"24px\">\n",
              "    <g>\n",
              "        <path d=\"M19 3H5c-1.1 0-2 .9-2 2v14c0 1.1.9 2 2 2h14c1.1 0 2-.9 2-2V5c0-1.1-.9-2-2-2zM9 17H7v-7h2v7zm4 0h-2V7h2v10zm4 0h-2v-4h2v4z\"/>\n",
              "    </g>\n",
              "</svg>\n",
              "  </button>\n",
              "\n",
              "<style>\n",
              "  .colab-df-quickchart {\n",
              "      --bg-color: #E8F0FE;\n",
              "      --fill-color: #1967D2;\n",
              "      --hover-bg-color: #E2EBFA;\n",
              "      --hover-fill-color: #174EA6;\n",
              "      --disabled-fill-color: #AAA;\n",
              "      --disabled-bg-color: #DDD;\n",
              "  }\n",
              "\n",
              "  [theme=dark] .colab-df-quickchart {\n",
              "      --bg-color: #3B4455;\n",
              "      --fill-color: #D2E3FC;\n",
              "      --hover-bg-color: #434B5C;\n",
              "      --hover-fill-color: #FFFFFF;\n",
              "      --disabled-bg-color: #3B4455;\n",
              "      --disabled-fill-color: #666;\n",
              "  }\n",
              "\n",
              "  .colab-df-quickchart {\n",
              "    background-color: var(--bg-color);\n",
              "    border: none;\n",
              "    border-radius: 50%;\n",
              "    cursor: pointer;\n",
              "    display: none;\n",
              "    fill: var(--fill-color);\n",
              "    height: 32px;\n",
              "    padding: 0;\n",
              "    width: 32px;\n",
              "  }\n",
              "\n",
              "  .colab-df-quickchart:hover {\n",
              "    background-color: var(--hover-bg-color);\n",
              "    box-shadow: 0 1px 2px rgba(60, 64, 67, 0.3), 0 1px 3px 1px rgba(60, 64, 67, 0.15);\n",
              "    fill: var(--button-hover-fill-color);\n",
              "  }\n",
              "\n",
              "  .colab-df-quickchart-complete:disabled,\n",
              "  .colab-df-quickchart-complete:disabled:hover {\n",
              "    background-color: var(--disabled-bg-color);\n",
              "    fill: var(--disabled-fill-color);\n",
              "    box-shadow: none;\n",
              "  }\n",
              "\n",
              "  .colab-df-spinner {\n",
              "    border: 2px solid var(--fill-color);\n",
              "    border-color: transparent;\n",
              "    border-bottom-color: var(--fill-color);\n",
              "    animation:\n",
              "      spin 1s steps(1) infinite;\n",
              "  }\n",
              "\n",
              "  @keyframes spin {\n",
              "    0% {\n",
              "      border-color: transparent;\n",
              "      border-bottom-color: var(--fill-color);\n",
              "      border-left-color: var(--fill-color);\n",
              "    }\n",
              "    20% {\n",
              "      border-color: transparent;\n",
              "      border-left-color: var(--fill-color);\n",
              "      border-top-color: var(--fill-color);\n",
              "    }\n",
              "    30% {\n",
              "      border-color: transparent;\n",
              "      border-left-color: var(--fill-color);\n",
              "      border-top-color: var(--fill-color);\n",
              "      border-right-color: var(--fill-color);\n",
              "    }\n",
              "    40% {\n",
              "      border-color: transparent;\n",
              "      border-right-color: var(--fill-color);\n",
              "      border-top-color: var(--fill-color);\n",
              "    }\n",
              "    60% {\n",
              "      border-color: transparent;\n",
              "      border-right-color: var(--fill-color);\n",
              "    }\n",
              "    80% {\n",
              "      border-color: transparent;\n",
              "      border-right-color: var(--fill-color);\n",
              "      border-bottom-color: var(--fill-color);\n",
              "    }\n",
              "    90% {\n",
              "      border-color: transparent;\n",
              "      border-bottom-color: var(--fill-color);\n",
              "    }\n",
              "  }\n",
              "</style>\n",
              "\n",
              "  <script>\n",
              "    async function quickchart(key) {\n",
              "      const quickchartButtonEl =\n",
              "        document.querySelector('#' + key + ' button');\n",
              "      quickchartButtonEl.disabled = true;  // To prevent multiple clicks.\n",
              "      quickchartButtonEl.classList.add('colab-df-spinner');\n",
              "      try {\n",
              "        const charts = await google.colab.kernel.invokeFunction(\n",
              "            'suggestCharts', [key], {});\n",
              "      } catch (error) {\n",
              "        console.error('Error during call to suggestCharts:', error);\n",
              "      }\n",
              "      quickchartButtonEl.classList.remove('colab-df-spinner');\n",
              "      quickchartButtonEl.classList.add('colab-df-quickchart-complete');\n",
              "    }\n",
              "    (() => {\n",
              "      let quickchartButtonEl =\n",
              "        document.querySelector('#df-5af729d1-7c64-4cad-a69a-a73531fbcf06 button');\n",
              "      quickchartButtonEl.style.display =\n",
              "        google.colab.kernel.accessAllowed ? 'block' : 'none';\n",
              "    })();\n",
              "  </script>\n",
              "</div>\n",
              "\n",
              "    </div>\n",
              "  </div>\n"
            ],
            "application/vnd.google.colaboratory.intrinsic+json": {
              "type": "dataframe",
              "variable_name": "df",
              "summary": "{\n  \"name\": \"df\",\n  \"rows\": 5000,\n  \"fields\": [\n    {\n      \"column\": \"Avg. Area Income\",\n      \"properties\": {\n        \"dtype\": \"number\",\n        \"std\": 10657.991213830363,\n        \"min\": 17796.631189543397,\n        \"max\": 107701.74837763936,\n        \"num_unique_values\": 5000,\n        \"samples\": [\n          61907.59334528668,\n          57160.20224330715,\n          70190.79644494488\n        ],\n        \"semantic_type\": \"\",\n        \"description\": \"\"\n      }\n    },\n    {\n      \"column\": \"Avg. Area House Age\",\n      \"properties\": {\n        \"dtype\": \"number\",\n        \"std\": 0.9914561798281712,\n        \"min\": 2.644304186036705,\n        \"max\": 9.51908806613594,\n        \"num_unique_values\": 5000,\n        \"samples\": [\n          7.017837824742983,\n          6.893260095195835,\n          6.745053761849909\n        ],\n        \"semantic_type\": \"\",\n        \"description\": \"\"\n      }\n    },\n    {\n      \"column\": \"Avg. Area Number of Rooms\",\n      \"properties\": {\n        \"dtype\": \"number\",\n        \"std\": 1.0058332312773872,\n        \"min\": 3.2361940234262048,\n        \"max\": 10.759588335938624,\n        \"num_unique_values\": 5000,\n        \"samples\": [\n          6.440255754985625,\n          6.921532164642504,\n          6.6625667327280365\n        ],\n        \"semantic_type\": \"\",\n        \"description\": \"\"\n      }\n    },\n    {\n      \"column\": \"Avg. Area Number of Bedrooms\",\n      \"properties\": {\n        \"dtype\": \"number\",\n        \"std\": 1.2341372654846827,\n        \"min\": 2.0,\n        \"max\": 6.5,\n        \"num_unique_values\": 255,\n        \"samples\": [\n          3.5,\n          3.41,\n          3.33\n        ],\n        \"semantic_type\": \"\",\n        \"description\": \"\"\n      }\n    },\n    {\n      \"column\": \"Area Population\",\n      \"properties\": {\n        \"dtype\": \"number\",\n        \"std\": 9925.650113501244,\n        \"min\": 172.61068627290044,\n        \"max\": 69621.7133777904,\n        \"num_unique_values\": 5000,\n        \"samples\": [\n          43828.947207425765,\n          43467.14703549413,\n          29215.13611183857\n        ],\n        \"semantic_type\": \"\",\n        \"description\": \"\"\n      }\n    },\n    {\n      \"column\": \"Price\",\n      \"properties\": {\n        \"dtype\": \"number\",\n        \"std\": 353117.6265810608,\n        \"min\": 15938.657923287848,\n        \"max\": 2469065.5941747027,\n        \"num_unique_values\": 5000,\n        \"samples\": [\n          1339096.0772451318,\n          1251794.178836864,\n          1340094.9662054193\n        ],\n        \"semantic_type\": \"\",\n        \"description\": \"\"\n      }\n    },\n    {\n      \"column\": \"Address\",\n      \"properties\": {\n        \"dtype\": \"string\",\n        \"num_unique_values\": 5000,\n        \"samples\": [\n          \"7521 Gregory Meadows\\nEast Johntown, CO 93230-5255\",\n          \"15828 Marshall Stravenue Suite 199\\nEast Matthewmouth, TN 71861-6319\",\n          \"USNS Brandt\\nFPO AE 72594\"\n        ],\n        \"semantic_type\": \"\",\n        \"description\": \"\"\n      }\n    }\n  ]\n}"
            }
          },
          "metadata": {},
          "execution_count": 4
        }
      ]
    },
    {
      "cell_type": "code",
      "source": [
        "df.info(verbose=True)    # Provides a summary of the DataFrame, including data types, non-null counts, and memory usage\n",
        "                         # 'verbose=True' ensures detailed output for each column\n"
      ],
      "metadata": {
        "colab": {
          "base_uri": "https://localhost:8080/"
        },
        "id": "4OWz2SaNhN8B",
        "outputId": "1fe331d2-2e5b-42a6-82b5-206bcc142dc6"
      },
      "execution_count": 5,
      "outputs": [
        {
          "output_type": "stream",
          "name": "stdout",
          "text": [
            "<class 'pandas.core.frame.DataFrame'>\n",
            "RangeIndex: 5000 entries, 0 to 4999\n",
            "Data columns (total 7 columns):\n",
            " #   Column                        Non-Null Count  Dtype  \n",
            "---  ------                        --------------  -----  \n",
            " 0   Avg. Area Income              5000 non-null   float64\n",
            " 1   Avg. Area House Age           5000 non-null   float64\n",
            " 2   Avg. Area Number of Rooms     5000 non-null   float64\n",
            " 3   Avg. Area Number of Bedrooms  5000 non-null   float64\n",
            " 4   Area Population               5000 non-null   float64\n",
            " 5   Price                         5000 non-null   float64\n",
            " 6   Address                       5000 non-null   object \n",
            "dtypes: float64(6), object(1)\n",
            "memory usage: 273.6+ KB\n"
          ]
        }
      ]
    },
    {
      "cell_type": "code",
      "source": [
        "df.describe(percentiles=[0.1, 0.25, 0.5, 0.75, 0.9])  # Generates summary statistics for numeric columns\n",
        "                                                      # 'percentiles' specifies custom percentiles (10%, 25%, 50%, 75%, 90%)\n"
      ],
      "metadata": {
        "colab": {
          "base_uri": "https://localhost:8080/",
          "height": 363
        },
        "id": "GfUxn084hZwG",
        "outputId": "318c2998-97c0-449f-e0bd-237b62b66de0"
      },
      "execution_count": 6,
      "outputs": [
        {
          "output_type": "execute_result",
          "data": {
            "text/plain": [
              "       Avg. Area Income  Avg. Area House Age  Avg. Area Number of Rooms  \\\n",
              "count       5000.000000          5000.000000                5000.000000   \n",
              "mean       68583.108984             5.977222                   6.987792   \n",
              "std        10657.991214             0.991456                   1.005833   \n",
              "min        17796.631190             2.644304                   3.236194   \n",
              "10%        55047.633980             4.697755                   5.681951   \n",
              "25%        61480.562388             5.322283                   6.299250   \n",
              "50%        68804.286404             5.970429                   7.002902   \n",
              "75%        75783.338666             6.650808                   7.665871   \n",
              "90%        82081.188283             7.243978                   8.274222   \n",
              "max       107701.748378             9.519088                  10.759588   \n",
              "\n",
              "       Avg. Area Number of Bedrooms  Area Population         Price  \n",
              "count                   5000.000000      5000.000000  5.000000e+03  \n",
              "mean                       3.981330     36163.516039  1.232073e+06  \n",
              "std                        1.234137      9925.650114  3.531176e+05  \n",
              "min                        2.000000       172.610686  1.593866e+04  \n",
              "10%                        2.310000     23502.845262  7.720318e+05  \n",
              "25%                        3.140000     29403.928702  9.975771e+05  \n",
              "50%                        4.050000     36199.406689  1.232669e+06  \n",
              "75%                        4.490000     42861.290769  1.471210e+06  \n",
              "90%                        6.100000     48813.618633  1.684621e+06  \n",
              "max                        6.500000     69621.713378  2.469066e+06  "
            ],
            "text/html": [
              "\n",
              "  <div id=\"df-240f8743-19cc-456c-9b09-0f2448dd1cbe\" class=\"colab-df-container\">\n",
              "    <div>\n",
              "<style scoped>\n",
              "    .dataframe tbody tr th:only-of-type {\n",
              "        vertical-align: middle;\n",
              "    }\n",
              "\n",
              "    .dataframe tbody tr th {\n",
              "        vertical-align: top;\n",
              "    }\n",
              "\n",
              "    .dataframe thead th {\n",
              "        text-align: right;\n",
              "    }\n",
              "</style>\n",
              "<table border=\"1\" class=\"dataframe\">\n",
              "  <thead>\n",
              "    <tr style=\"text-align: right;\">\n",
              "      <th></th>\n",
              "      <th>Avg. Area Income</th>\n",
              "      <th>Avg. Area House Age</th>\n",
              "      <th>Avg. Area Number of Rooms</th>\n",
              "      <th>Avg. Area Number of Bedrooms</th>\n",
              "      <th>Area Population</th>\n",
              "      <th>Price</th>\n",
              "    </tr>\n",
              "  </thead>\n",
              "  <tbody>\n",
              "    <tr>\n",
              "      <th>count</th>\n",
              "      <td>5000.000000</td>\n",
              "      <td>5000.000000</td>\n",
              "      <td>5000.000000</td>\n",
              "      <td>5000.000000</td>\n",
              "      <td>5000.000000</td>\n",
              "      <td>5.000000e+03</td>\n",
              "    </tr>\n",
              "    <tr>\n",
              "      <th>mean</th>\n",
              "      <td>68583.108984</td>\n",
              "      <td>5.977222</td>\n",
              "      <td>6.987792</td>\n",
              "      <td>3.981330</td>\n",
              "      <td>36163.516039</td>\n",
              "      <td>1.232073e+06</td>\n",
              "    </tr>\n",
              "    <tr>\n",
              "      <th>std</th>\n",
              "      <td>10657.991214</td>\n",
              "      <td>0.991456</td>\n",
              "      <td>1.005833</td>\n",
              "      <td>1.234137</td>\n",
              "      <td>9925.650114</td>\n",
              "      <td>3.531176e+05</td>\n",
              "    </tr>\n",
              "    <tr>\n",
              "      <th>min</th>\n",
              "      <td>17796.631190</td>\n",
              "      <td>2.644304</td>\n",
              "      <td>3.236194</td>\n",
              "      <td>2.000000</td>\n",
              "      <td>172.610686</td>\n",
              "      <td>1.593866e+04</td>\n",
              "    </tr>\n",
              "    <tr>\n",
              "      <th>10%</th>\n",
              "      <td>55047.633980</td>\n",
              "      <td>4.697755</td>\n",
              "      <td>5.681951</td>\n",
              "      <td>2.310000</td>\n",
              "      <td>23502.845262</td>\n",
              "      <td>7.720318e+05</td>\n",
              "    </tr>\n",
              "    <tr>\n",
              "      <th>25%</th>\n",
              "      <td>61480.562388</td>\n",
              "      <td>5.322283</td>\n",
              "      <td>6.299250</td>\n",
              "      <td>3.140000</td>\n",
              "      <td>29403.928702</td>\n",
              "      <td>9.975771e+05</td>\n",
              "    </tr>\n",
              "    <tr>\n",
              "      <th>50%</th>\n",
              "      <td>68804.286404</td>\n",
              "      <td>5.970429</td>\n",
              "      <td>7.002902</td>\n",
              "      <td>4.050000</td>\n",
              "      <td>36199.406689</td>\n",
              "      <td>1.232669e+06</td>\n",
              "    </tr>\n",
              "    <tr>\n",
              "      <th>75%</th>\n",
              "      <td>75783.338666</td>\n",
              "      <td>6.650808</td>\n",
              "      <td>7.665871</td>\n",
              "      <td>4.490000</td>\n",
              "      <td>42861.290769</td>\n",
              "      <td>1.471210e+06</td>\n",
              "    </tr>\n",
              "    <tr>\n",
              "      <th>90%</th>\n",
              "      <td>82081.188283</td>\n",
              "      <td>7.243978</td>\n",
              "      <td>8.274222</td>\n",
              "      <td>6.100000</td>\n",
              "      <td>48813.618633</td>\n",
              "      <td>1.684621e+06</td>\n",
              "    </tr>\n",
              "    <tr>\n",
              "      <th>max</th>\n",
              "      <td>107701.748378</td>\n",
              "      <td>9.519088</td>\n",
              "      <td>10.759588</td>\n",
              "      <td>6.500000</td>\n",
              "      <td>69621.713378</td>\n",
              "      <td>2.469066e+06</td>\n",
              "    </tr>\n",
              "  </tbody>\n",
              "</table>\n",
              "</div>\n",
              "    <div class=\"colab-df-buttons\">\n",
              "\n",
              "  <div class=\"colab-df-container\">\n",
              "    <button class=\"colab-df-convert\" onclick=\"convertToInteractive('df-240f8743-19cc-456c-9b09-0f2448dd1cbe')\"\n",
              "            title=\"Convert this dataframe to an interactive table.\"\n",
              "            style=\"display:none;\">\n",
              "\n",
              "  <svg xmlns=\"http://www.w3.org/2000/svg\" height=\"24px\" viewBox=\"0 -960 960 960\">\n",
              "    <path d=\"M120-120v-720h720v720H120Zm60-500h600v-160H180v160Zm220 220h160v-160H400v160Zm0 220h160v-160H400v160ZM180-400h160v-160H180v160Zm440 0h160v-160H620v160ZM180-180h160v-160H180v160Zm440 0h160v-160H620v160Z\"/>\n",
              "  </svg>\n",
              "    </button>\n",
              "\n",
              "  <style>\n",
              "    .colab-df-container {\n",
              "      display:flex;\n",
              "      gap: 12px;\n",
              "    }\n",
              "\n",
              "    .colab-df-convert {\n",
              "      background-color: #E8F0FE;\n",
              "      border: none;\n",
              "      border-radius: 50%;\n",
              "      cursor: pointer;\n",
              "      display: none;\n",
              "      fill: #1967D2;\n",
              "      height: 32px;\n",
              "      padding: 0 0 0 0;\n",
              "      width: 32px;\n",
              "    }\n",
              "\n",
              "    .colab-df-convert:hover {\n",
              "      background-color: #E2EBFA;\n",
              "      box-shadow: 0px 1px 2px rgba(60, 64, 67, 0.3), 0px 1px 3px 1px rgba(60, 64, 67, 0.15);\n",
              "      fill: #174EA6;\n",
              "    }\n",
              "\n",
              "    .colab-df-buttons div {\n",
              "      margin-bottom: 4px;\n",
              "    }\n",
              "\n",
              "    [theme=dark] .colab-df-convert {\n",
              "      background-color: #3B4455;\n",
              "      fill: #D2E3FC;\n",
              "    }\n",
              "\n",
              "    [theme=dark] .colab-df-convert:hover {\n",
              "      background-color: #434B5C;\n",
              "      box-shadow: 0px 1px 3px 1px rgba(0, 0, 0, 0.15);\n",
              "      filter: drop-shadow(0px 1px 2px rgba(0, 0, 0, 0.3));\n",
              "      fill: #FFFFFF;\n",
              "    }\n",
              "  </style>\n",
              "\n",
              "    <script>\n",
              "      const buttonEl =\n",
              "        document.querySelector('#df-240f8743-19cc-456c-9b09-0f2448dd1cbe button.colab-df-convert');\n",
              "      buttonEl.style.display =\n",
              "        google.colab.kernel.accessAllowed ? 'block' : 'none';\n",
              "\n",
              "      async function convertToInteractive(key) {\n",
              "        const element = document.querySelector('#df-240f8743-19cc-456c-9b09-0f2448dd1cbe');\n",
              "        const dataTable =\n",
              "          await google.colab.kernel.invokeFunction('convertToInteractive',\n",
              "                                                    [key], {});\n",
              "        if (!dataTable) return;\n",
              "\n",
              "        const docLinkHtml = 'Like what you see? Visit the ' +\n",
              "          '<a target=\"_blank\" href=https://colab.research.google.com/notebooks/data_table.ipynb>data table notebook</a>'\n",
              "          + ' to learn more about interactive tables.';\n",
              "        element.innerHTML = '';\n",
              "        dataTable['output_type'] = 'display_data';\n",
              "        await google.colab.output.renderOutput(dataTable, element);\n",
              "        const docLink = document.createElement('div');\n",
              "        docLink.innerHTML = docLinkHtml;\n",
              "        element.appendChild(docLink);\n",
              "      }\n",
              "    </script>\n",
              "  </div>\n",
              "\n",
              "\n",
              "<div id=\"df-87e12ebb-a696-4968-bfbd-23abfce0883a\">\n",
              "  <button class=\"colab-df-quickchart\" onclick=\"quickchart('df-87e12ebb-a696-4968-bfbd-23abfce0883a')\"\n",
              "            title=\"Suggest charts\"\n",
              "            style=\"display:none;\">\n",
              "\n",
              "<svg xmlns=\"http://www.w3.org/2000/svg\" height=\"24px\"viewBox=\"0 0 24 24\"\n",
              "     width=\"24px\">\n",
              "    <g>\n",
              "        <path d=\"M19 3H5c-1.1 0-2 .9-2 2v14c0 1.1.9 2 2 2h14c1.1 0 2-.9 2-2V5c0-1.1-.9-2-2-2zM9 17H7v-7h2v7zm4 0h-2V7h2v10zm4 0h-2v-4h2v4z\"/>\n",
              "    </g>\n",
              "</svg>\n",
              "  </button>\n",
              "\n",
              "<style>\n",
              "  .colab-df-quickchart {\n",
              "      --bg-color: #E8F0FE;\n",
              "      --fill-color: #1967D2;\n",
              "      --hover-bg-color: #E2EBFA;\n",
              "      --hover-fill-color: #174EA6;\n",
              "      --disabled-fill-color: #AAA;\n",
              "      --disabled-bg-color: #DDD;\n",
              "  }\n",
              "\n",
              "  [theme=dark] .colab-df-quickchart {\n",
              "      --bg-color: #3B4455;\n",
              "      --fill-color: #D2E3FC;\n",
              "      --hover-bg-color: #434B5C;\n",
              "      --hover-fill-color: #FFFFFF;\n",
              "      --disabled-bg-color: #3B4455;\n",
              "      --disabled-fill-color: #666;\n",
              "  }\n",
              "\n",
              "  .colab-df-quickchart {\n",
              "    background-color: var(--bg-color);\n",
              "    border: none;\n",
              "    border-radius: 50%;\n",
              "    cursor: pointer;\n",
              "    display: none;\n",
              "    fill: var(--fill-color);\n",
              "    height: 32px;\n",
              "    padding: 0;\n",
              "    width: 32px;\n",
              "  }\n",
              "\n",
              "  .colab-df-quickchart:hover {\n",
              "    background-color: var(--hover-bg-color);\n",
              "    box-shadow: 0 1px 2px rgba(60, 64, 67, 0.3), 0 1px 3px 1px rgba(60, 64, 67, 0.15);\n",
              "    fill: var(--button-hover-fill-color);\n",
              "  }\n",
              "\n",
              "  .colab-df-quickchart-complete:disabled,\n",
              "  .colab-df-quickchart-complete:disabled:hover {\n",
              "    background-color: var(--disabled-bg-color);\n",
              "    fill: var(--disabled-fill-color);\n",
              "    box-shadow: none;\n",
              "  }\n",
              "\n",
              "  .colab-df-spinner {\n",
              "    border: 2px solid var(--fill-color);\n",
              "    border-color: transparent;\n",
              "    border-bottom-color: var(--fill-color);\n",
              "    animation:\n",
              "      spin 1s steps(1) infinite;\n",
              "  }\n",
              "\n",
              "  @keyframes spin {\n",
              "    0% {\n",
              "      border-color: transparent;\n",
              "      border-bottom-color: var(--fill-color);\n",
              "      border-left-color: var(--fill-color);\n",
              "    }\n",
              "    20% {\n",
              "      border-color: transparent;\n",
              "      border-left-color: var(--fill-color);\n",
              "      border-top-color: var(--fill-color);\n",
              "    }\n",
              "    30% {\n",
              "      border-color: transparent;\n",
              "      border-left-color: var(--fill-color);\n",
              "      border-top-color: var(--fill-color);\n",
              "      border-right-color: var(--fill-color);\n",
              "    }\n",
              "    40% {\n",
              "      border-color: transparent;\n",
              "      border-right-color: var(--fill-color);\n",
              "      border-top-color: var(--fill-color);\n",
              "    }\n",
              "    60% {\n",
              "      border-color: transparent;\n",
              "      border-right-color: var(--fill-color);\n",
              "    }\n",
              "    80% {\n",
              "      border-color: transparent;\n",
              "      border-right-color: var(--fill-color);\n",
              "      border-bottom-color: var(--fill-color);\n",
              "    }\n",
              "    90% {\n",
              "      border-color: transparent;\n",
              "      border-bottom-color: var(--fill-color);\n",
              "    }\n",
              "  }\n",
              "</style>\n",
              "\n",
              "  <script>\n",
              "    async function quickchart(key) {\n",
              "      const quickchartButtonEl =\n",
              "        document.querySelector('#' + key + ' button');\n",
              "      quickchartButtonEl.disabled = true;  // To prevent multiple clicks.\n",
              "      quickchartButtonEl.classList.add('colab-df-spinner');\n",
              "      try {\n",
              "        const charts = await google.colab.kernel.invokeFunction(\n",
              "            'suggestCharts', [key], {});\n",
              "      } catch (error) {\n",
              "        console.error('Error during call to suggestCharts:', error);\n",
              "      }\n",
              "      quickchartButtonEl.classList.remove('colab-df-spinner');\n",
              "      quickchartButtonEl.classList.add('colab-df-quickchart-complete');\n",
              "    }\n",
              "    (() => {\n",
              "      let quickchartButtonEl =\n",
              "        document.querySelector('#df-87e12ebb-a696-4968-bfbd-23abfce0883a button');\n",
              "      quickchartButtonEl.style.display =\n",
              "        google.colab.kernel.accessAllowed ? 'block' : 'none';\n",
              "    })();\n",
              "  </script>\n",
              "</div>\n",
              "\n",
              "    </div>\n",
              "  </div>\n"
            ],
            "application/vnd.google.colaboratory.intrinsic+json": {
              "type": "dataframe",
              "summary": "{\n  \"name\": \"                                                      # 'percentiles' specifies custom percentiles (10%, 25%, 50%, 75%, 90%)\",\n  \"rows\": 10,\n  \"fields\": [\n    {\n      \"column\": \"Avg. Area Income\",\n      \"properties\": {\n        \"dtype\": \"number\",\n        \"std\": 33680.38241175016,\n        \"min\": 5000.0,\n        \"max\": 107701.74837763936,\n        \"num_unique_values\": 10,\n        \"samples\": [\n          82081.1882826662,\n          68583.10898395974,\n          61480.562388460974\n        ],\n        \"semantic_type\": \"\",\n        \"description\": \"\"\n      }\n    },\n    {\n      \"column\": \"Avg. Area House Age\",\n      \"properties\": {\n        \"dtype\": \"number\",\n        \"std\": 1579.418299094593,\n        \"min\": 0.9914561798281712,\n        \"max\": 5000.0,\n        \"num_unique_values\": 10,\n        \"samples\": [\n          7.243978366169327,\n          5.977222035280273,\n          5.322283015802158\n        ],\n        \"semantic_type\": \"\",\n        \"description\": \"\"\n      }\n    },\n    {\n      \"column\": \"Avg. Area Number of Rooms\",\n      \"properties\": {\n        \"dtype\": \"number\",\n        \"std\": 1579.1413558920829,\n        \"min\": 1.0058332312773872,\n        \"max\": 5000.0,\n        \"num_unique_values\": 10,\n        \"samples\": [\n          8.274221578245502,\n          6.987791850907944,\n          6.299250099611249\n        ],\n        \"semantic_type\": \"\",\n        \"description\": \"\"\n      }\n    },\n    {\n      \"column\": \"Avg. Area Number of Bedrooms\",\n      \"properties\": {\n        \"dtype\": \"number\",\n        \"std\": 1579.951927684868,\n        \"min\": 1.2341372654846827,\n        \"max\": 5000.0,\n        \"num_unique_values\": 10,\n        \"samples\": [\n          6.1,\n          3.9813300000000003,\n          3.14\n        ],\n        \"semantic_type\": \"\",\n        \"description\": \"\"\n      }\n    },\n    {\n      \"column\": \"Area Population\",\n      \"properties\": {\n        \"dtype\": \"number\",\n        \"std\": 21410.305683423405,\n        \"min\": 172.61068627290044,\n        \"max\": 69621.7133777904,\n        \"num_unique_values\": 10,\n        \"samples\": [\n          48813.61863275585,\n          36163.51603857466,\n          29403.928701608518\n        ],\n        \"semantic_type\": \"\",\n        \"description\": \"\"\n      }\n    },\n    {\n      \"column\": \"Price\",\n      \"properties\": {\n        \"dtype\": \"number\",\n        \"std\": 773181.1790860957,\n        \"min\": 5000.0,\n        \"max\": 2469065.5941747027,\n        \"num_unique_values\": 10,\n        \"samples\": [\n          1684620.9544020062,\n          1232072.654142357,\n          997577.1350487601\n        ],\n        \"semantic_type\": \"\",\n        \"description\": \"\"\n      }\n    }\n  ]\n}"
            }
          },
          "metadata": {},
          "execution_count": 6
        }
      ]
    },
    {
      "cell_type": "code",
      "source": [
        "df.columns    # Returns the column names of the DataFrame as an Index object\n"
      ],
      "metadata": {
        "colab": {
          "base_uri": "https://localhost:8080/"
        },
        "id": "NvgTmnUjhmWE",
        "outputId": "a69b1730-fd15-426f-b2eb-f53198f2f89a"
      },
      "execution_count": 7,
      "outputs": [
        {
          "output_type": "execute_result",
          "data": {
            "text/plain": [
              "Index(['Avg. Area Income', 'Avg. Area House Age', 'Avg. Area Number of Rooms',\n",
              "       'Avg. Area Number of Bedrooms', 'Area Population', 'Price', 'Address'],\n",
              "      dtype='object')"
            ]
          },
          "metadata": {},
          "execution_count": 7
        }
      ]
    },
    {
      "cell_type": "code",
      "source": [
        "sns.pairplot(df)    # Creates pairwise scatter plots for each numeric variable in the DataFrame using Seaborn\n",
        "                    # Helps in visualizing relationships between variables and identifying patterns or correlations\n"
      ],
      "metadata": {
        "colab": {
          "base_uri": "https://localhost:8080/"
        },
        "id": "syO9u2BQh4b2",
        "outputId": "6432bb0a-995a-463f-cc37-a4c9a21760f6"
      },
      "execution_count": null,
      "outputs": [
        {
          "output_type": "execute_result",
          "data": {
            "text/plain": [
              "<seaborn.axisgrid.PairGrid at 0x781425ee2c50>"
            ]
          },
          "metadata": {},
          "execution_count": 8
        }
      ]
    },
    {
      "cell_type": "code",
      "source": [
        "df['Price'].plot.hist(bins=25, figsize=(8, 4))  # Creates a histogram of the 'Price' column with 25 bins\n",
        "                                                # The 'figsize' parameter adjusts the size of the plot to 8x4 inches\n"
      ],
      "metadata": {
        "id": "jSW8-KMyiIuP"
      },
      "execution_count": null,
      "outputs": []
    },
    {
      "cell_type": "code",
      "source": [
        "df['Price'].plot.density()  # Plots a kernel density estimate (KDE) for the 'Price' column\n",
        "                            # Provides a smoothed estimate of the distribution of the data\n"
      ],
      "metadata": {
        "id": "uINpruP7igZ5"
      },
      "execution_count": null,
      "outputs": []
    },
    {
      "cell_type": "code",
      "source": [
        "# Drop specific columns by name (e.g., 'Address')\n",
        "df_cleaned = df.drop(columns=['Address'])  # Replace 'Address' with the actual column name\n"
      ],
      "metadata": {
        "id": "CPl0VSGsiu4s"
      },
      "execution_count": null,
      "outputs": []
    },
    {
      "cell_type": "code",
      "source": [
        "# Now compute the correlation\n",
        "df_cleaned.corr()"
      ],
      "metadata": {
        "id": "KgagGrSEi6Sw"
      },
      "execution_count": null,
      "outputs": []
    },
    {
      "cell_type": "markdown",
      "source": [
        "**A heatmap is a data visualization technique** that displays data in a matrix format where individual values are represented by colors.\n",
        "\n",
        " This allows you to **easily visualize the magnitude** of values across a matrix or grid."
      ],
      "metadata": {
        "id": "iWOgBm95jcK9"
      }
    },
    {
      "cell_type": "code",
      "source": [
        "plt.figure(figsize=(10, 7))                    # Creates a new figure with a size of 10x7 inches\n",
        "sns.heatmap(df_cleaned.corr(), annot=True, linewidths=2)  # Generates a heatmap of the correlation matrix for 'df_cleaned'\n",
        "                                                         # 'annot=True' displays the correlation coefficients in each cell\n",
        "                                                         # 'linewidths=2' adds a 2-pixel-wide line between cells in the heatmap\n"
      ],
      "metadata": {
        "id": "rPOg2VdHi9i4"
      },
      "execution_count": null,
      "outputs": []
    },
    {
      "cell_type": "code",
      "source": [
        "l_column = list(df.columns)    # Converts the column names of the DataFrame into a list\n",
        "len_feature = len(l_column)   # Calculates the number of columns in the DataFrame (length of the column list)\n",
        "l_column                      # Displays the list of column names\n"
      ],
      "metadata": {
        "id": "CYObGjGgjNM0"
      },
      "execution_count": null,
      "outputs": []
    },
    {
      "cell_type": "markdown",
      "source": [
        "**Put all the numerical features in X and Price in y,\n",
        "ignore Address which is string for linear regression**"
      ],
      "metadata": {
        "id": "iZF3x178j3LP"
      }
    },
    {
      "cell_type": "code",
      "source": [
        "X = df[l_column[0:len_feature-2]]    # Selects all columns from the DataFrame except the last two columns for features (X)\n",
        "y = df[l_column[len_feature-2]]      # Selects the second-to-last column as the target variable (y)\n"
      ],
      "metadata": {
        "id": "svWLRqx7jv5d"
      },
      "execution_count": null,
      "outputs": []
    },
    {
      "cell_type": "code",
      "source": [
        "print(\"Feature set size:\", X.shape)    # Prints the dimensions of the feature set (X), showing the number of rows and columns\n",
        "print(\"Variable set size:\", y.shape)   # Prints the dimensions of the target variable (y), showing the number of rows (typically a single column)\n"
      ],
      "metadata": {
        "id": "_t8RDS7-kQ1r"
      },
      "execution_count": null,
      "outputs": []
    },
    {
      "cell_type": "code",
      "source": [
        "X.head()    # Displays the first 5 rows of the feature set (X) to provide a quick overview\n"
      ],
      "metadata": {
        "id": "ja6EKVjgk3WE"
      },
      "execution_count": null,
      "outputs": []
    },
    {
      "cell_type": "markdown",
      "source": [
        "**Import train_test_split function from scikit-learn**"
      ],
      "metadata": {
        "id": "OGJlpOPLl4ud"
      }
    },
    {
      "cell_type": "code",
      "source": [
        "from sklearn.model_selection import train_test_split  # Imports the train_test_split function from scikit-learn for splitting data into training and testing sets\n"
      ],
      "metadata": {
        "id": "tgXEpRUBlGCD"
      },
      "execution_count": null,
      "outputs": []
    },
    {
      "cell_type": "markdown",
      "source": [
        "**Create X and y train and test splits in one command using\n",
        "a split ratio and a random seed**"
      ],
      "metadata": {
        "id": "HWf2DX9pmJLn"
      }
    },
    {
      "cell_type": "code",
      "source": [
        "X_train, X_test, y_train, y_test = train_test_split(X, y,\n",
        "                            test_size=0.3, random_state=123)\n",
        "                            # Splits the feature set (X) and target variable (y) into training and testing sets\n",
        "                            # test_size=0.3 specifies that 30% of the data will be used for testing, and 70% for training\n",
        "                            # random_state=123 ensures reproducibility by setting a fixed seed for random number generation\n"
      ],
      "metadata": {
        "id": "BA70KhHJmB_V"
      },
      "execution_count": null,
      "outputs": []
    },
    {
      "cell_type": "markdown",
      "source": [
        "**Check the size and shape of train/test splits (it should be in the ratio as per test_size parameter above)**"
      ],
      "metadata": {
        "id": "sd_wV2yUmmTF"
      }
    },
    {
      "cell_type": "code",
      "source": [
        "print(\"Training feature set size:\", X_train.shape)    # Prints the dimensions of the training feature set (X_train)\n",
        "print(\"Test feature set size:\", X_test.shape)          # Prints the dimensions of the test feature set (X_test)\n",
        "print(\"Training variable set size:\", y_train.shape)    # Prints the dimensions of the training target variable (y_train)\n",
        "print(\"Test variable set size:\", y_test.shape)         # Prints the dimensions of the test target variable (y_test)\n"
      ],
      "metadata": {
        "id": "UKq1PsKkmeNG"
      },
      "execution_count": null,
      "outputs": []
    },
    {
      "cell_type": "markdown",
      "source": [
        "**Import linear regression model estimator from scikit-learn and instantiate**"
      ],
      "metadata": {
        "id": "6IB6KCQHpOAw"
      }
    },
    {
      "cell_type": "code",
      "source": [
        "from sklearn.linear_model import LinearRegression  # Imports the LinearRegression class from scikit-learn for linear regression modeling\n",
        "from sklearn import metrics                        # Imports the metrics module from scikit-learn for evaluating model performance\n"
      ],
      "metadata": {
        "id": "JyK4u-2YoptD"
      },
      "execution_count": null,
      "outputs": []
    },
    {
      "cell_type": "code",
      "source": [
        "lm = LinearRegression() # Creating a Linear Regression object 'lm'"
      ],
      "metadata": {
        "id": "8w1OqhbypI-l"
      },
      "execution_count": null,
      "outputs": []
    },
    {
      "cell_type": "code",
      "source": [
        "lm.fit(X_train,y_train) # Fit the linear model on to the 'lm' object itself i.e. no need to set this to another variable"
      ],
      "metadata": {
        "id": "Sm8uV42npf_t"
      },
      "execution_count": null,
      "outputs": []
    },
    {
      "cell_type": "markdown",
      "source": [
        "**Check the intercept and coefficients and put them in a DataFrame**"
      ],
      "metadata": {
        "id": "EDazy5Vfpum_"
      }
    },
    {
      "cell_type": "code",
      "source": [
        "print(\"The intercept term of the linear model:\", lm.intercept_)  # Prints the intercept term of the linear regression model 'lm'\n"
      ],
      "metadata": {
        "id": "oZ2fa67TpolS"
      },
      "execution_count": null,
      "outputs": []
    },
    {
      "cell_type": "code",
      "source": [
        "print(\"The coefficients of the linear model:\", lm.coef_)  # Prints the coefficients of the linear regression model 'lm'\n"
      ],
      "metadata": {
        "id": "ayNe_p6Tp8Lr"
      },
      "execution_count": null,
      "outputs": []
    },
    {
      "cell_type": "code",
      "source": [
        "cdf = pd.DataFrame(data=lm.coef_, index=X_train.columns, columns=[\"Coefficients\"])\n",
        "# Creating a DataFrame for the coefficients of the linear model, with feature names as the index and \"Coefficients\" as the column name\n",
        "cdf  # Displaying the DataFrame with the coefficients of the linear model"
      ],
      "metadata": {
        "id": "7qL6L69VqFhD"
      },
      "execution_count": null,
      "outputs": []
    },
    {
      "cell_type": "markdown",
      "source": [
        "**Calculation of standard errors and t-statistic for the coefficients**"
      ],
      "metadata": {
        "id": "DwCKw0Upra7G"
      }
    },
    {
      "cell_type": "code",
      "source": [
        "n = X_train.shape[0]  # Number of training samples\n",
        "k = X_train.shape[1]  # Number of features\n",
        "dfN = n - k           # Degrees of freedom for the residual error\n",
        "\n",
        "train_pred = lm.predict(X_train)  # Predicting values using the training feature set\n",
        "train_error = np.square(train_pred - y_train)  # Calculating squared errors between predicted and actual values\n",
        "sum_error = np.sum(train_error)  # Summing all squared errors\n",
        "\n",
        "se = [0, 0, 0, 0, 0]  # Initialize a list to store standard errors for each feature\n",
        "\n",
        "for i in range(k):\n",
        "    r = (sum_error / dfN)  # Calculating the mean squared error for the feature\n",
        "    r = r / np.sum(np.square(X_train[list(X_train.columns)[i]] - X_train[list(X_train.columns)[i]].mean()))\n",
        "    # Dividing by the variance of the feature\n",
        "    se[i] = np.sqrt(r)  # Calculating the standard error for the feature\n",
        "\n",
        "cdf['Standard Error'] = se  # Adding the standard errors to the DataFrame\n",
        "cdf['t-statistic'] = cdf['Coefficients'] / cdf['Standard Error']  # Calculating the t-statistic for each coefficient\n",
        "\n",
        "cdf  # Displaying the DataFrame with coefficients, standard errors, and t-statistics\n"
      ],
      "metadata": {
        "id": "1S9s3mS0q8DZ"
      },
      "execution_count": null,
      "outputs": []
    },
    {
      "cell_type": "code",
      "source": [
        "print(\"Therefore, features arranged in the order of importance for predicting the house price\\n\", '-'*90, sep='')\n",
        "# Prints a header indicating that features are being arranged by importance, followed by a line of dashes for separation\n",
        "\n",
        "l = list(cdf.sort_values('t-statistic', ascending=False).index)\n",
        "# Sorts the features by their t-statistic in descending order and extracts the feature names into a list\n",
        "\n",
        "print(' > \\n'.join(l))\n",
        "# Prints the list of feature names, each separated by ' > ' and a newline\n"
      ],
      "metadata": {
        "id": "blalFcCYqd71"
      },
      "execution_count": null,
      "outputs": []
    },
    {
      "cell_type": "code",
      "source": [
        "l = list(cdf.index)  # Extracts the feature names from the DataFrame index into a list\n",
        "\n",
        "from matplotlib import gridspec  # Imports gridspec for creating complex grid layouts in matplotlib\n",
        "fig = plt.figure(figsize=(18, 10))  # Creates a new figure with a size of 18x10 inches\n",
        "gs = gridspec.GridSpec(2, 3)  # Defines a grid layout with 2 rows and 3 columns for subplots\n",
        "\n",
        "# Creating subplots within the defined grid layout\n",
        "\n",
        "ax0 = plt.subplot(gs[0])\n",
        "ax0.scatter(df[l[0]], df['Price'])  # Plots a scatter plot of the first feature against 'Price'\n",
        "ax0.set_title(l[0] + \" vs. Price\", fontdict={'fontsize': 20})  # Sets the title of the subplot\n",
        "\n",
        "ax1 = plt.subplot(gs[1])\n",
        "ax1.scatter(df[l[1]], df['Price'])  # Plots a scatter plot of the second feature against 'Price'\n",
        "ax1.set_title(l[1] + \" vs. Price\", fontdict={'fontsize': 20})  # Sets the title of the subplot\n",
        "\n",
        "ax2 = plt.subplot(gs[2])\n",
        "ax2.scatter(df[l[2]], df['Price'])  # Plots a scatter plot of the third feature against 'Price'\n",
        "ax2.set_title(l[2] + \" vs. Price\", fontdict={'fontsize': 20})  # Sets the title of the subplot\n",
        "\n",
        "ax3 = plt.subplot(gs[3])\n",
        "ax3.scatter(df[l[3]], df['Price'])  # Plots a scatter plot of the fourth feature against 'Price'\n",
        "ax3.set_title(l[3] + \" vs. Price\", fontdict={'fontsize': 20})  # Sets the title of the subplot\n",
        "\n",
        "ax4 = plt.subplot(gs[4])\n",
        "ax4.scatter(df[l[4]], df['Price'])  # Plots a scatter plot of the fifth feature against 'Price'\n",
        "ax4.set_title(l[4] + \" vs. Price\", fontdict={'fontsize': 20})  # Sets the title of the subplot\n"
      ],
      "metadata": {
        "id": "zbDNhEg4r2fy"
      },
      "execution_count": null,
      "outputs": []
    },
    {
      "cell_type": "markdown",
      "source": [
        "**R-square of the model fit**"
      ],
      "metadata": {
        "id": "ar_Fhm4ZsU9D"
      }
    },
    {
      "cell_type": "code",
      "source": [
        "print(\"R-squared value of this fit:\", round(metrics.r2_score(y_train, train_pred), 3))\n",
        "# Calculates and prints the R-squared value (coefficient of determination) for the model's fit on the training data\n",
        "# 'metrics.r2_score' computes the R-squared value, and 'round(..., 3)' rounds the result to three decimal places\n"
      ],
      "metadata": {
        "id": "1YxNMxpvsCla"
      },
      "execution_count": null,
      "outputs": []
    },
    {
      "cell_type": "markdown",
      "source": [
        "Prediction, error estimate, and regression evaluation matrices\n",
        "\n",
        "**Prediction using the lm model**"
      ],
      "metadata": {
        "id": "tVyBWKpkslXq"
      }
    },
    {
      "cell_type": "code",
      "source": [
        "predictions = lm.predict(X_test)  # Predicts the target values for the test feature set (X_test) using the trained linear model\n",
        "\n",
        "print(\"Type of the predicted object:\", type(predictions))\n",
        "# Prints the type of the 'predictions' object to show it is a NumPy array or similar\n",
        "\n",
        "print(\"Size of the predicted object:\", predictions.shape)\n",
        "# Prints the size (shape) of the 'predictions' object to show the number of predicted values\n"
      ],
      "metadata": {
        "id": "GBzbPob3seZs"
      },
      "execution_count": null,
      "outputs": []
    },
    {
      "cell_type": "markdown",
      "source": [
        "**Scatter plot of predicted price and y_test set to see if the data fall on a 45 degree straight line**\n",
        "\n"
      ],
      "metadata": {
        "id": "T8XCcwBds6Ho"
      }
    },
    {
      "cell_type": "code",
      "source": [
        "plt.figure(figsize=(10, 7))  # Creates a new figure with a size of 10x7 inches\n",
        "plt.title(\"Actual vs. predicted house prices\", fontsize=25)  # Sets the title of the plot with a font size of 25\n",
        "plt.xlabel(\"Actual test set house prices\", fontsize=18)  # Labels the x-axis with a font size of 18\n",
        "plt.ylabel(\"Predicted house prices\", fontsize=18)  # Labels the y-axis with a font size of 18\n",
        "plt.scatter(x=y_test, y=predictions)  # Creates a scatter plot of actual test set house prices (x) vs. predicted house prices (y)\n"
      ],
      "metadata": {
        "id": "QMlanJqGsvyD"
      },
      "execution_count": null,
      "outputs": []
    },
    {
      "cell_type": "markdown",
      "source": [
        "**Plotting histogram of the residuals i.e. predicted errors (expect a normally distributed pattern)**"
      ],
      "metadata": {
        "id": "E-yUZ7netJM4"
      }
    },
    {
      "cell_type": "code",
      "source": [
        "plt.figure(figsize=(10, 7))  # Creates a new figure with a size of 10x7 inches\n",
        "plt.title(\"Histogram of residuals to check for normality\", fontsize=25)  # Sets the title of the plot with a font size of 25\n",
        "plt.xlabel(\"Residuals\", fontsize=18)  # Labels the x-axis with a font size of 18\n",
        "plt.ylabel(\"Kernel density\", fontsize=18)  # Labels the y-axis with a font size of 18\n",
        "sns.histplot([y_test - predictions], kde=True)  # Creates a histogram of the residuals (differences between actual and predicted values)\n",
        "                                              # 'kde=True' adds a Kernel Density Estimate (KDE) to visualize the distribution more smoothly\n"
      ],
      "metadata": {
        "id": "WBV_o6f7tCWK"
      },
      "execution_count": null,
      "outputs": []
    },
    {
      "cell_type": "markdown",
      "source": [
        "**Scatter plot of residuals and predicted values (Homoscedasticity)**\n",
        "\n",
        "Homoscedasticity is a key assumption in linear regression analysis that means the variance of the error term is constant across all values of the independent variables. This means that the error term, or \"noise\", in the relationship between the independent and dependent variables, does not vary much as the value of the predictor variable changes\n",
        "\n"
      ],
      "metadata": {
        "id": "e_d_y9Zmtm-x"
      }
    },
    {
      "cell_type": "code",
      "source": [
        "plt.figure(figsize=(10, 7))  # Creates a new figure with a size of 10x7 inches\n",
        "plt.title(\"Residuals vs. predicted values plot (Homoscedasticity)\\n\", fontsize=25)\n",
        "# Sets the title of the plot with a font size of 25 and adds a newline for separation\n",
        "plt.xlabel(\"Predicted house prices\", fontsize=18)  # Labels the x-axis with a font size of 18\n",
        "plt.ylabel(\"Residuals\", fontsize=18)  # Labels the y-axis with a font size of 18\n",
        "plt.scatter(x=predictions, y=y_test - predictions)\n",
        "# Creates a scatter plot of predicted house prices (x) vs. residuals (differences between actual and predicted values)\n"
      ],
      "metadata": {
        "id": "iqRTwyKWtrKz"
      },
      "execution_count": null,
      "outputs": []
    },
    {
      "cell_type": "markdown",
      "source": [
        "**Regression evaluation metrices**"
      ],
      "metadata": {
        "id": "2lPXgFhvuZMC"
      }
    },
    {
      "cell_type": "code",
      "source": [
        "print(\"Mean absolute error (MAE):\", metrics.mean_absolute_error(y_test, predictions))\n",
        "# Calculates and prints the Mean Absolute Error (MAE) between the actual and predicted values for the test set\n",
        "\n",
        "print(\"Mean square error (MSE):\", metrics.mean_squared_error(y_test, predictions))\n",
        "# Calculates and prints the Mean Squared Error (MSE) between the actual and predicted values for the test set\n",
        "\n",
        "print(\"Root mean square error (RMSE):\", np.sqrt(metrics.mean_squared_error(y_test, predictions)))\n",
        "# Calculates and prints the Root Mean Squared Error (RMSE) between the actual and predicted values for the test set\n",
        "# RMSE is the square root of the MSE\n"
      ],
      "metadata": {
        "id": "_kBd5cPTty5g"
      },
      "execution_count": null,
      "outputs": []
    },
    {
      "cell_type": "markdown",
      "source": [
        "**R-square value**"
      ],
      "metadata": {
        "id": "Ic1ttAnmure7"
      }
    },
    {
      "cell_type": "code",
      "source": [
        "print(\"R-squared value of predictions:\", round(metrics.r2_score(y_test, predictions), 3))\n",
        "# Calculates and prints the R-squared value (coefficient of determination) for the model's predictions on the test set\n",
        "# 'metrics.r2_score' computes the R-squared value, and 'round(..., 3)' rounds the result to three decimal places\n"
      ],
      "metadata": {
        "id": "QTr01nlyuiox"
      },
      "execution_count": null,
      "outputs": []
    },
    {
      "cell_type": "code",
      "source": [
        "#compute minmax value for observed price and expected price\n",
        "import numpy as np\n",
        "min=np.min(predictions/6000)\n",
        "max=np.max(predictions/12000)\n",
        "print(min, max)"
      ],
      "metadata": {
        "id": "_Vg-XQMlvA38"
      },
      "execution_count": null,
      "outputs": []
    },
    {
      "cell_type": "code",
      "source": [
        "# Compute MinMax value for Price=100\n",
        "L = (100 - min) / (max - min)\n",
        "# Calculates the Min-Max normalization value for a house price of 100, where 'min' and 'max' are the minimum and maximum values of the 'Price' variable\n",
        "\n",
        "L  # Displays the normalized value for Price=100\n",
        "\n",
        "plt.hist(L)  # Creates a histogram of the Min-Max normalized values\n"
      ],
      "metadata": {
        "id": "IgjPo591vRbz"
      },
      "execution_count": null,
      "outputs": []
    },
    {
      "cell_type": "code",
      "source": [],
      "metadata": {
        "id": "Ao-1NbwVvTcS"
      },
      "execution_count": null,
      "outputs": []
    }
  ]
}